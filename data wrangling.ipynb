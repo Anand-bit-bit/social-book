{
  "metadata": {
    "kernelspec": {
      "name": "python",
      "display_name": "Python (Pyodide)",
      "language": "python"
    },
    "language_info": {
      "codemirror_mode": {
        "name": "python",
        "version": 3
      },
      "file_extension": ".py",
      "mimetype": "text/x-python",
      "name": "python",
      "nbconvert_exporter": "python",
      "pygments_lexer": "ipython3",
      "version": "3.8"
    }
  },
  "nbformat_minor": 4,
  "nbformat": 4,
  "cells": [
    {
      "cell_type": "code",
      "source": "# import python libaries",
      "metadata": {
        "trusted": true
      },
      "outputs": [],
      "execution_count": null
    },
    {
      "cell_type": "code",
      "source": "import pandas as pd\nimport numpy as np\n",
      "metadata": {
        "trusted": true
      },
      "outputs": [],
      "execution_count": 7
    },
    {
      "cell_type": "code",
      "source": "# Generate random data for create dataframe\ndata = np.random.randn(10, 3)",
      "metadata": {
        "trusted": true
      },
      "outputs": [],
      "execution_count": 8
    },
    {
      "cell_type": "code",
      "source": "# Create the DataFrame\ndf = pd.DataFrame(data, columns=['Column1', 'Column2', 'Column3'])",
      "metadata": {
        "trusted": true
      },
      "outputs": [],
      "execution_count": 9
    },
    {
      "cell_type": "code",
      "source": "\n# Print the original DataFrame\nprint(\"Original DataFrame:\")\nprint(df)\nprint()\n",
      "metadata": {
        "trusted": true
      },
      "outputs": [
        {
          "name": "stdout",
          "text": "Original DataFrame:\n    Column1   Column2   Column3\n0 -0.853430  0.637592  2.204845\n1 -0.214460  0.552151  1.803004\n2 -0.837059  1.012367 -0.080622\n3  0.427652  1.238153  0.955323\n4  0.010548 -1.328790 -0.162634\n5  1.163566  0.960654 -0.770893\n6 -1.666297  0.624139  0.656328\n7  0.088671 -0.156693 -0.642458\n8 -0.797692  0.060052 -0.484049\n9  0.521290 -0.165032 -1.010615\n\n",
          "output_type": "stream"
        }
      ],
      "execution_count": 10
    },
    {
      "cell_type": "code",
      "source": "\n# Set a threshold value\nthreshold = 0.5",
      "metadata": {
        "trusted": true
      },
      "outputs": [],
      "execution_count": 11
    },
    {
      "cell_type": "code",
      "source": "\n# Filter the DataFrame based on values greater than the threshold and replace them\nfiltered_df = df.mask(df <= threshold, -999)",
      "metadata": {
        "trusted": true
      },
      "outputs": [],
      "execution_count": 12
    },
    {
      "cell_type": "code",
      "source": "# Print the filtered and replaced DataFrame\nprint(f\"Filtered and Replaced DataFrame with values greater than {threshold}:\")\nprint(filtered_df)",
      "metadata": {
        "trusted": true
      },
      "outputs": [
        {
          "name": "stdout",
          "text": "Filtered and Replaced DataFrame with values greater than 0.5:\n      Column1     Column2     Column3\n0 -999.000000    0.637592    2.204845\n1 -999.000000    0.552151    1.803004\n2 -999.000000    1.012367 -999.000000\n3 -999.000000    1.238153    0.955323\n4 -999.000000 -999.000000 -999.000000\n5    1.163566    0.960654 -999.000000\n6 -999.000000    0.624139    0.656328\n7 -999.000000 -999.000000 -999.000000\n8 -999.000000 -999.000000 -999.000000\n9    0.521290 -999.000000 -999.000000\n",
          "output_type": "stream"
        }
      ],
      "execution_count": 13
    },
    {
      "cell_type": "code",
      "source": "\n# Generate random data\nnp.random.seed(0)  # For reproducibility\ndata = {\n    'Column1': np.random.randn(10),\n    'Column2': np.random.randn(10),\n    'Column3': np.random.randn(10)\n}",
      "metadata": {
        "trusted": true
      },
      "outputs": [],
      "execution_count": 14
    },
    {
      "cell_type": "code",
      "source": "\n# Create the DataFrame\ndf = pd.DataFrame(data)",
      "metadata": {
        "trusted": true
      },
      "outputs": [],
      "execution_count": 15
    },
    {
      "cell_type": "code",
      "source": "\n# Print the original DataFrame\nprint(\"Original DataFrame:\")\nprint(df)\nprint()",
      "metadata": {
        "trusted": true
      },
      "outputs": [
        {
          "name": "stdout",
          "text": "Original DataFrame:\n    Column1   Column2   Column3\n0  1.764052  0.144044 -2.552990\n1  0.400157  1.454274  0.653619\n2  0.978738  0.761038  0.864436\n3  2.240893  0.121675 -0.742165\n4  1.867558  0.443863  2.269755\n5 -0.977278  0.333674 -1.454366\n6  0.950088  1.494079  0.045759\n7 -0.151357 -0.205158 -0.187184\n8 -0.103219  0.313068  1.532779\n9  0.410599 -0.854096  1.469359\n\n",
          "output_type": "stream"
        }
      ],
      "execution_count": 16
    },
    {
      "cell_type": "code",
      "source": "\n# Set conditions for filtering\ncondition1 = df['Column1'] > 0  # Values in Column1 greater than 0\ncondition2 = df['Column2'] < 0  # Values in Column2 less than 0\n",
      "metadata": {
        "trusted": true
      },
      "outputs": [],
      "execution_count": 17
    },
    {
      "cell_type": "code",
      "source": "\n# Filter the DataFrame based on the conditions\nfiltered_df = df[condition1 & condition2]",
      "metadata": {
        "trusted": true
      },
      "outputs": [],
      "execution_count": 18
    },
    {
      "cell_type": "code",
      "source": "\n# Print the filtered DataFrame\nprint(\"Filtered DataFrame based on conditions:\")\nprint(filtered_df)",
      "metadata": {
        "trusted": true
      },
      "outputs": [
        {
          "name": "stdout",
          "text": "Filtered DataFrame based on conditions:\n    Column1   Column2   Column3\n9  0.410599 -0.854096  1.469359\n",
          "output_type": "stream"
        }
      ],
      "execution_count": 19
    },
    {
      "cell_type": "code",
      "source": "\n# Print the original DataFrame\nprint(\"Original DataFrame:\")\nprint(df)\nprint()\n",
      "metadata": {
        "trusted": true
      },
      "outputs": [
        {
          "name": "stdout",
          "text": "Original DataFrame:\n    Column1   Column2   Column3\n0  1.764052  0.144044 -2.552990\n1  0.400157  1.454274  0.653619\n2  0.978738  0.761038  0.864436\n3  2.240893  0.121675 -0.742165\n4  1.867558  0.443863  2.269755\n5 -0.977278  0.333674 -1.454366\n6  0.950088  1.494079  0.045759\n7 -0.151357 -0.205158 -0.187184\n8 -0.103219  0.313068  1.532779\n9  0.410599 -0.854096  1.469359\n\n",
          "output_type": "stream"
        }
      ],
      "execution_count": 20
    }
  ]
}